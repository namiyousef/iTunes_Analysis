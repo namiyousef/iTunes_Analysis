{
 "cells": [
  {
   "cell_type": "markdown",
   "metadata": {},
   "source": [
    "# NLP Data Cleaning\n",
    "\n",
    "As an addition to the previous work done on this project, and with the intention of practising NLP on a mostly ready dataset that I'm familiar with, I've decided to embark on this mini-project."
   ]
  },
  {
   "cell_type": "markdown",
   "metadata": {},
   "source": [
    "# Objectives:\n",
    "\n",
    "- Use NLP techniques to preprocess song titles\n",
    "- Use NLP techniques to visualise song titles"
   ]
  },
  {
   "cell_type": "markdown",
   "metadata": {},
   "source": [
    "# Libraries"
   ]
  },
  {
   "cell_type": "code",
   "execution_count": 53,
   "metadata": {},
   "outputs": [
    {
     "name": "stderr",
     "output_type": "stream",
     "text": [
      "[nltk_data] Downloading package stopwords to\n",
      "[nltk_data]     /Users/yousefnami/nltk_data...\n",
      "[nltk_data]   Package stopwords is already up-to-date!\n"
     ]
    },
    {
     "data": {
      "text/plain": [
       "True"
      ]
     },
     "execution_count": 53,
     "metadata": {},
     "output_type": "execute_result"
    }
   ],
   "source": [
    "import pandas as pd\n",
    "import nltk \n",
    "from nltk.corpus import stopwords\n",
    "from nltk.tokenize import word_tokenize\n",
    "\n",
    "# download nltk stuff\n",
    "nltk.download('stopwords')"
   ]
  },
  {
   "cell_type": "code",
   "execution_count": 54,
   "metadata": {},
   "outputs": [
    {
     "data": {
      "text/html": [
       "<div>\n",
       "<style scoped>\n",
       "    .dataframe tbody tr th:only-of-type {\n",
       "        vertical-align: middle;\n",
       "    }\n",
       "\n",
       "    .dataframe tbody tr th {\n",
       "        vertical-align: top;\n",
       "    }\n",
       "\n",
       "    .dataframe thead th {\n",
       "        text-align: right;\n",
       "    }\n",
       "</style>\n",
       "<table border=\"1\" class=\"dataframe\">\n",
       "  <thead>\n",
       "    <tr style=\"text-align: right;\">\n",
       "      <th></th>\n",
       "      <th>Name</th>\n",
       "      <th>Total Time</th>\n",
       "      <th>Year</th>\n",
       "      <th>Date Added</th>\n",
       "      <th>Play Count</th>\n",
       "      <th>Skip Count</th>\n",
       "      <th>Artist</th>\n",
       "      <th>Genre</th>\n",
       "      <th>Cleaned up time</th>\n",
       "      <th>Relative Plays</th>\n",
       "      <th>Relative Skips</th>\n",
       "    </tr>\n",
       "  </thead>\n",
       "  <tbody>\n",
       "    <tr>\n",
       "      <th>0</th>\n",
       "      <td>Ether</td>\n",
       "      <td>277968</td>\n",
       "      <td>2001</td>\n",
       "      <td>2016-02-12</td>\n",
       "      <td>36</td>\n",
       "      <td>11</td>\n",
       "      <td>Nas</td>\n",
       "      <td>Hip Hop/Rap</td>\n",
       "      <td>4:37</td>\n",
       "      <td>0.142340</td>\n",
       "      <td>0.200364</td>\n",
       "    </tr>\n",
       "    <tr>\n",
       "      <th>1</th>\n",
       "      <td>Happy</td>\n",
       "      <td>247066</td>\n",
       "      <td>2014</td>\n",
       "      <td>2016-02-12</td>\n",
       "      <td>33</td>\n",
       "      <td>16</td>\n",
       "      <td>Pharrell Williams</td>\n",
       "      <td>Pop</td>\n",
       "      <td>4:7</td>\n",
       "      <td>0.130478</td>\n",
       "      <td>0.291439</td>\n",
       "    </tr>\n",
       "    <tr>\n",
       "      <th>2</th>\n",
       "      <td>Immigrant song</td>\n",
       "      <td>148662</td>\n",
       "      <td>1970</td>\n",
       "      <td>2016-02-12</td>\n",
       "      <td>80</td>\n",
       "      <td>13</td>\n",
       "      <td>Led Zeppelin</td>\n",
       "      <td>Rock</td>\n",
       "      <td>2:28</td>\n",
       "      <td>0.316311</td>\n",
       "      <td>0.236794</td>\n",
       "    </tr>\n",
       "    <tr>\n",
       "      <th>3</th>\n",
       "      <td>Violent Pornography</td>\n",
       "      <td>211408</td>\n",
       "      <td>2005</td>\n",
       "      <td>2016-02-12</td>\n",
       "      <td>30</td>\n",
       "      <td>12</td>\n",
       "      <td>System Of A Down</td>\n",
       "      <td>Metal</td>\n",
       "      <td>3:31</td>\n",
       "      <td>0.118617</td>\n",
       "      <td>0.218579</td>\n",
       "    </tr>\n",
       "    <tr>\n",
       "      <th>4</th>\n",
       "      <td>Psycho</td>\n",
       "      <td>235415</td>\n",
       "      <td>2001</td>\n",
       "      <td>2016-02-12</td>\n",
       "      <td>51</td>\n",
       "      <td>6</td>\n",
       "      <td>System Of A Down</td>\n",
       "      <td>Metal</td>\n",
       "      <td>3:55</td>\n",
       "      <td>0.201648</td>\n",
       "      <td>0.109290</td>\n",
       "    </tr>\n",
       "  </tbody>\n",
       "</table>\n",
       "</div>"
      ],
      "text/plain": [
       "                  Name  Total Time  Year  Date Added  Play Count  Skip Count  \\\n",
       "0                Ether      277968  2001  2016-02-12          36          11   \n",
       "1                Happy      247066  2014  2016-02-12          33          16   \n",
       "2       Immigrant song      148662  1970  2016-02-12          80          13   \n",
       "3  Violent Pornography      211408  2005  2016-02-12          30          12   \n",
       "4               Psycho      235415  2001  2016-02-12          51           6   \n",
       "\n",
       "              Artist        Genre Cleaned up time  Relative Plays  \\\n",
       "0                Nas  Hip Hop/Rap            4:37        0.142340   \n",
       "1  Pharrell Williams          Pop             4:7        0.130478   \n",
       "2       Led Zeppelin         Rock            2:28        0.316311   \n",
       "3   System Of A Down        Metal            3:31        0.118617   \n",
       "4   System Of A Down        Metal            3:55        0.201648   \n",
       "\n",
       "   Relative Skips  \n",
       "0        0.200364  \n",
       "1        0.291439  \n",
       "2        0.236794  \n",
       "3        0.218579  \n",
       "4        0.109290  "
      ]
     },
     "execution_count": 54,
     "metadata": {},
     "output_type": "execute_result"
    }
   ],
   "source": [
    "df = pd.read_csv('../Data/cleaned_data.csv')\n",
    "df.head()"
   ]
  },
  {
   "cell_type": "code",
   "execution_count": 131,
   "metadata": {},
   "outputs": [
    {
     "data": {
      "text/plain": [
       "'Ether Happy Immigrant song Violent Pornography Psycho Gold Digger Come As You Are Lithium Here Comes The Sun HiiiPoWeR I Love Rock \\'n\\' Roll \\u200bm.A.A.d city Follow The Leader The Man Who Sold The World The Man Who Sold The World Ramble On Crazy Little Thing Called Love The Prophets Song Fight The Power Raindrops Keep Fallin\\' on My Head Mama Used To Say T.N.T. Le Freak Three Little Birds Kashmir Jamming Walking On Sunshine Heartbreak Hotel \"Heroes\" Moonage Daydream Life On Mars? Ashes To Ashes Modern Love Fame Golden Years Eye of the Tiger Innuendo The Show Must Go On Dont Stop Me Now I Want To Break Free Radio Ga Ga Killer Queen We Will Rock You Changes Space Oddity \\'Till I Collapse (Remix) \\'Till I Collapse Stan Guilty Concience God Gave Me Everything Gimme Shelter Back in Black Abracadabra Highway to Hell Paul Revere The Power Of Love Django Gangsta\\'s Paradise (NickT Remix) Gangsta\\'s Paradise Ambitionz Az a Ridah All Eyez on Me Stayin\\' Alive Hypnotize Stronger Another One Bites The Dust Bohemian Rhapsody (Live 1981) Blitzkrieg Bop Toxicity Chop Suey! Let\\'s Get It Started Jailhouse Rock I\\'m a Believer Sympathy for the Devil The House of the Rising Sun Smells Like Teen Spirit Heart-Shaped Box Hotel California Dream On Layla Hit \\'Em Up Bad to the Bone Ain\\'t Nobody Iron Man King Kunta Paint It, Black Hail Mary Straight Outta Compton No Vaseline Starman Hooked On A Feeling No Sleep Till Brooklyn Boombastic Personal Jesus Johnny B. Goode Paid In Full (Coldcut Remix) Rapper\\'s Delight Under Pressure I Got A Woman Gangsta Gangsta The Message Buffalo Soldier Fuck Tha Police Professional Griefers In da Club California Love Big Poppa Jesus Walks Juicy Microphone Fiend Scenario Whiplash Sing For The Moment (I Can\\'t Get No) Satisfaction Anarchy In The U.K. Du Hast Without Me Nuthin But A \\'G\\' Thang Can\\'t You Hear Me Knocking Blue Suede Shoes I Want To Hold Your Hand X Gon\\' Give It To Ya Superman Gallows Pole Another Brick in the Wall (Part II) Roll Over Beethoven Roll Over Beethoven Rolling in the Deep Skyfall 16 On Death Row Still D.R.E. Forgot About Dre 99 Problems Otis Hey Joe All Along The Watchtower Voodoo Child (Slight Return) Welcome To The Jungle The Ecstacy of Gold Scar Tissue Californication C.R.E.A.M. I Got You (I Feel Good) Sweet Child O\\' Mine Misty Mountain Hop Over the Hills and Far Away Somebody To Love Somebody to love The Hanging Tree Live And Let Die Going Under Barbara Ann Clocks Bring Me To Life I Walk the Line Rock And Roll Music Rock And Roll Music She Knows Rebel Rebel Hey Jude A Day in the Life Let It Be Whole Lotta Love Black Dog Achilles\\' Last Stand Game of Thrones-Main Title Star Wars (Main Theme) The Imperial March (Darth Vader\\'s Theme) The Raiders March کجایی همخواب No Woman, No Cry I\\'m Supposed To Die Tonight Lose Yourself Technical Difficulties I\\'m So Sorry She Blinded Me With Science School Days I Shot The Sheriff Stir It Up Sabotage Smooth Criminal Casualties Of War I Ain\\'t No Joke When I B on tha Mic Juice (Know The Ledge) Don\\'t Sweat The Technique Seven Nation Army Make Some Noise Crazy Rap It\\'s Tricky My Name Is A Horse With No Name Paradise City The Real Slim Shady Where The Hood At? (You Gotta) Fight For Your Right (To Party!) Lyrics of Fury I Know You Got Soul That\\'s That I Get Around Brass Monkey Rebel Without A Pause Triumph Method Man Guess Who\\'s Back Waiting For The World To End The R No Omega The 18th Letter (Always and Forever) Gazillion Ear Alphabet Aerobics Just A Lil\\' Bit Candy Shop P.I.M.P Many Men (Wish Death) The Next Episode Empty Walls Sky Is Over Harakiri The Mass Artsakh Crack a Bottle Party Up (Up in Here) Cigaro Thunderstruck If I Can\\'t Born in The U.S.A. B.O.B. Represent Check the Rhime Ms. Jackson Sweet Thang Rigamortus N.Y. State of Mind The World is Yours Halftime Fly Away Hunter Keep Ya Head Up ATLiens The Sound Of Silence Made You Look Luck of Lucien Party We Will Throw Now! Walk This Way Heartbreaker Walk This Way Billie Jean London Calling Cocaine Hound Dog American Woman People Are Strange You Shook Me All Night Long Girls Got Rhythm Rock and Roll Shoot to Thrill Suspicious Minds Burning Love Imagine Run To The Hills It\\'s My Life Mrs. Robinson Freedom Song من ميليونر نيستم The Trial Summertime Rebel Yell The Battle Of Evermore Break On Through (to the Other Side) Rosa Parks Are You Gonna Go My Way Paranoid Riders On the Storm Light My Fire Love Me Two Times Touch Me Hello, I Love You Comfortably Numb Time Money Have A Cigar High Hopes All My Love The Rover Holy Diver Communication Breakdown Living Loving Maid (She\\'s Just A Woman) The Trooper Fortunate Son Don\\'t Let Me Be Misunderstood Should I Stay or Should I Go Going to California When the Levee Breaks Bohemian Rhapsody Party and Bullshit Skew It On The Bar-B Rockin\\' In The Free World My Generation I Wanna Be Sedated Stairway to Heaven So Fresh, So Clean Informer What Is and What Should Never Be Watch That Man Aladdin Sane (1913–1938–197?) Drive-In Saturday 1984 Dodo Queen Bitch Suffragette city Back Down Patiently Waiting High All The Time 21 Questions Song For Bob Dylan Andy Warhol Panic in Detroit The Jean Genie When It Rains It Pours Enter Sandman Back in the U.S.S.R. Eleanor Rigby Ace of Spades A Taste Of Honey Beast of Burden The Ballroom Blitz Michelle My Michelle Drive My Car Eight Days a Week Can\\'t Stop Rock You Like a Hurricane Livin\\' On A Prayer Let\\'s Dance Sweet Home Alabama Lucy in the Sky with Diamonds Get Back I Want You (She\\'s So Heavy) The Prettiest Star Good Times Bad Times Let\\'s Spend the Night Together The Zephyr Song Under The Bridge Pay Day Give Away Suck My Kiss Africa Michelle Old Man Heart of Gold Heart of Gold Eldorado God Save the Queen I Fought the Law The Passenger Hurt Cracked Actor Come Alive Low Rider Old Man All Star Freebird Simple Man Breathe (In The Air) Down by the River Out on the Weekend Alabama The Needle and the Damage Done I\\'ve Just Seen a Face Norwegian Wood (This Bird Has Flown) You Won\\'t See Me Think for Yourself Nowhere Man Girl Wait Layla (Live 1999) Stairway to Heaven (Live 1973) Layla (Live 1985) It Was a Good Day Tunnel Of Love Peachfuzz I\\'m Shipping Up To Boston One More Fucking Time Stairway to Heaven (Live 1975) Dragonborn Bittersweet Symphony Sympathy for the Devil (Fatboy Slim Remix) Sympathy for the Devil (The Neptunes Remix) Sympathy for the Devil The State Of Massachusetts Rose Tattoo Rose Tattoo Johnny, I Hardly Knew Ya Drunken Sailor Sympathy for the Devil Hardcore Hustle In My Time Of Dying Hey, Hey, What Can I Do Hustler\\'s Ambition A Kind of Magic Day \\'n\\' Nite Marooned Time Lady Grinning Soul Four Sticks How Many More Times Dazed and Confused Time Will Crawl D\\'yer Mak\\'er Who Shot Ya? Purple Haze (Live 1970) Voodoo Child (Slight Return) (Live 1969) Cortez The Killer Southern Man Soulshine Good Vibrations One Way Or Another Ziggy Stardust What\\'s Going On Baba O\\'Riley The Boxer Get Up, Stand Up Train in Vain You Can\\'t Always Get What You Want Money For Nothing Yesterday In My Life Help! She Loves You Please Please Me Something Can\\'t Buy Me Love With a Little Help from My Friends Psycho Killer Psycho Killer (Remix) Waterloo Sunset Ruby Tuesday Jumpin\\' Jack Flash Misirlou Crazy Train Brown Sugar Miss You More Than a Feeling That\\'ll Be The Day Master of Puppets Whipping Post Hoochie Coochie Man Hoochie Coochie Man Midnight Rider Alone Again Or I Wanna Be Your Dog Love Me Two Times Oda a la Sin Nombre Flores Secas Waterloo Sunset All Along the Watchtower Layla Purple Haze O Fortuna Fortune Plango Vulnera درويش ساغي I Will Survive Lola Born To Be Wild In Bloom Ohio Penny Lane Call Me Ain\\'t No Sunshine Crossroads Sunshine Of Your Love White Room I Can\\'t Explain I Can\\'t Explain O-o-h Child I Can See For Miles Won\\'t Get Fooled Again A Hard Day\\'s NIght I Heard It Through the Grapevine You Really Got Me Losing My Religion Your Song Love and Happiness Sweet Emotion Spider-Man Sweet Dreams (Are Made of This) Sheena Is a Punk Rocker Have You Ever Seen the Rain? Oh, Pretty Woman California Dreamin\\' California Dreamin\\' California Dreamin\\' Hot Stuff Living for the City Living for the City Up on the Roof Wish You Were Here (Don\\'t Fear) The Reaper Goodbye Yellow Brick Road Fastlane Anti-Matter Somebody to Love Green Onions Sultans Of Swing Just Like Me Kicks All the Young Dudes Beat It Deep Fried Frenz Next Levels Accordion Mr. Tambourine Man Don\\'t Be Cruel I Shot The Sheriff Like a Prayer Be-Bop-A-Lula Rapp Snitch Knishes The House of the Rising Sun Oh Darlin\\' What Have I Done Parisienne Walkways (Live) Still Got the Blues (For You) Knockin\\' On Heaven\\'s Door Eight Miles High Tutti Frutti Long Tall Sally Good Golly, Miss Molly Keep A-Knockin\\' (but You Can\\'t Come In) The Girl Can\\'t Help It The Girl Can\\'t Help It The Whistler Evil Woman Return of the G\\' The Twist Jolene Tangled Up in Blue Every Breath You Take Take Me to the River Summer in the City Magic Carpet Ride Roxanne How Deep Is Your Love No Quarter Darlene Fool in the Rain The Song Remains the Same Houses of the Holy Nobody\\'s Fault but Mine Another Day of Sun 1987 Prevail Trampled Under Foot Ten Years Gone Lazarus Blackstar City of Stars Winterburn Knockin\\' on Heaven\\'s Door Chain of Fools Babe I\\'m Gonna Leave You Rock Lobster Tired of Being Alone Pictures of You Just Like Heaven Subterranean Homesick Blues Higher Ground Higher Ground Soul Man Rock The Casbah Ramblin\\' Man Jolene The Loner U Can\\'t Touch This Be The Rain Like A Hurricane It\\'s So Easy Mr. Brownstone Rocket Queen Nightrain It\\'s Your Thing The Unforgiven II The Seeker Flying Mictrotonal Banana People-Vultures All Day and All of the Night The Unforgiven III Complete Control Jolene You Don\\'t Know What Love Is (You Just Do as You\\'re Told) Dead Leaves and the Dirty Ground Ball and Biscuit The Man Comes Around Burned Wearing and Tearing Celebration Day I Cant Give Everything Away \\'Tis a Pity She Was a Whore Loyal to No One So Far Away The Man\\'s Too Strong Your Latest Trick Walk of Life One World Why Worry Ride Across the River Brothers in Arms Highwayman Highwayman The Pilot Down to the Waterline I Ain\\'t no Nice Guy I Ain\\'t no Nice Guy (Unplugged) Lady Writer Setting Me Up Southbound Again In The Gallery Shut Up Romeo and Juliet Stand By Me Stand By Me Hellraiser Hellraiser Calling Elvis Twisted Nerve While My Guitar Gently Weeps No One Like You I\\'m The Ocean Bridge Over Troubled Water Heart of Gold In My Life Nothing Else Matters I Can\\'t Quit You Baby A Million Miles Away Easy Come, Easy Go For The Last Time I\\'m Not Awake Yet Bad Penny Moonchild I Fall Apart Laundromat Dazed and Confused Never Gonna Give You Up The Wanton Song Philby Riding with the King You Really Got Me Big for Your Boots Hardest Button To Button Hot for Teacher The Court of the Crimson King Epitaph Roundabout Owner of a Lonely Heart Down Under For The Love Of God (Live 2005) Too Far Gone My Valentine One Fade to Black Close Your Eyes (And Count to Fuck) Nobody Speak Should\\'ve Learnt My Lesson Who\\'s That Coming Overnight Bag Loose Talk Ride On Red, Ride On Public Enemy No. 1 Persuasion Maybe I Will It\\'s Too Late Stop! Different Shades of Blue Good Lovin\\' Sharp Dressed Man La Grange The Nigga Ya Love to Hate Cliffs of Dover Feel Good Inc. Wind of Change Dry County I Can\\'t Quit You Baby Evil Woman Slumming Angel Man on the Silver Mountain Temple of the King Civil War Dude (Looks Like a Lady) Crazy Janie\\'s Got A Gun Ain\\'t No Grave (Gonna Hold This Body Down) God\\'s Gonna Cut You Down Start Me Up Rock \\'n\\' Roll Suicide Hang On to Yourself Star Lady Stardust Jessica Mannish Boy Perpetual Burn All Right Now Poison War Pigs Maniac Glasgow Kiss Snow (Hey Oh) Dani California Wonderwall Woodstock Déjà Vu (Ghost) Riders in the Sky (Ghost) Riders in the Sky Have You Ever Seen the Rain? Personal Jesus Streets of Laredo If You Could Read My Mind Further On Up the Road Love\\'s Been Good to Me Rose of My Heart Four Strong Winds I\\'m Free from the Chain Gang Now Redemption Day Can\\'t Help but Wonder Where I\\'m Bound Satisfied Mind I Don\\'t Hurt Anymore The Final Countdown I Need a Hero The Ecstasy of Gold Karma Chameleon It\\'s a Miracle Way To Fall Nuclear Mister Man In The End No Diggity Everybody Wants to Rule the World Working Class Hero Cecilia Gates of Babylon Don\\'t Stop Believin\\' Rainbow in the Dark The Number of the Beast The Lion Sleeps Tonight Rocky Raccoon Bring It On Home to Me Happiness Is a Warm Gun I\\'m a Man Breaking the Law Mother R U Mine? I Don\\'t Want to Miss a Thing November Rain Pink Fear of the Dark Hallowed Be Thy Name Just the Two of Us Just the Two of Us Talkin\\' \\'Bout You It\\'s My Life Mr. Blue Sky Fox on the Run Lake Shore Drive The Chain Southern Nights My Sweet Lord Brandy (You\\'re a Fine Girl)  Come a Little Bit Closer Wham Bam Shang-A-Lang Surrender Street Fighting Man Since I\\'ve Been Loving You You Shook Me Moby Dick Do You Read Me Lonesome Highway I\\'m Waiting for the Man Rocket Man (I Think It\\'s Going To Be A Long Long Time) Da Ya Think I\\'m Sexy? Gloria Mystic Eyes Shout (Parts I and II) Proud Mary Bad Moon Rising Down on the Corner Do You Believe in Magic Spirit in the Sky Can\\'t Believe It\\'s True Crest of a Wave Daughter of the Everglades Gloria Love Her Madly Like a Rolling Stone The Boys Are Back in Town Roses Freedom (Live 1969) New Kid in Town Stuck in the Middle with You Carry On Wayward Son Sweet Jane Son of a Preacher Man Paradise Chamber of Reflection Treat Her Better Don\\'t Let Me Be Misunderstood HUMBLE. Heavy Metal (Takin\\' a Ride) China Girl Black or White I Want It All It\\'s a Hard Life The Miracle Breakthru The Invisible Man I\\'m Going Slightly Mad Headlong Hammer to Fall Friends Will Be Friends One Vision Time Is on My Side Heart of Stone Play with Fire As Tears Go By Get Off of My Cloud Mother\\'s Little Helper Under My Thumb 19th Nervous Breakdown Let\\'s Spend the Night Together I Heard It Through the Grapevine Black Betty Mad World Girl, You\\'ll Be a Woman Soon I Remember You 18 and Life Go Your Own Way Fast Car Zombie Girl, You\\'ll Be a Woman Soon Solitary Man Rhiannon Tuesday\\'s Gone Ain\\'t No Mountain High Enough Lenny Jolene Scene Seven: I. The Dance of Eternity Highway Star Sweet of Dreams It Could Happen to You I Want to Talk About You Autumn Leaves Scenery Early Summer Willow Weep For Me It\\'s Changed Forever and One (Neverland) God Hocus Pocus The Stroke Peaches Golden Brown Wheel in the Sky Baby Driver Know How Bellbottoms Harlem Shuffle Egyptian Reggae Smokey Joe\\'s La La B-A-B-Y Neat Neat Neat Let\\'s Go Away For Awhile (Live) Kashmere Unsquare Dance Easy Debora Brighton Rock Never, Never Gonna Give You Up Get Out of Denver The Needle and The Spoon On The Hunt Gimme Back My Bullets I Ain\\'t the One Saturday Night Special Barracuda Black Magic Woman/Gypsy Queen Waitin\\' for the Bus Behind Blue Eyes Who Do You Love? From the Beginning Already Gone Take it Easy Harlem Shuffle I\\'d Love to Change the World Foreplay/Long Time Brown Eyed Girl Witchy Woman Oh Well Me and Bobby McGee Bloody Well Right Dirty Deeds Done Dirt Cheap Burnin\\' For You Moving in Stereo Bargain Maybe I\\'m Amazed Bennie and the Jets Candle in the Wind Ship of Fools The Ocean Boogie with Stu Dazed and Confused (Live in 1973) No Quarter (Live 1973) Since I\\'ve Been Loving You (Live 1973) Run Through the Jungle Up Around the Bend Freebird (Live 1976) Long as I Can See the Light Suzie Q Green River Born on the Bayou Good Golly, Miss Molly Travelin\\' Band I Put a Spell on You I Put a Spell on You School\\'s Out Free Ride Slow Ride Hurricane Why Can\\'t We Be Friends? No More Mr. Nice Guy I Just Want to Make Love to You Love Hurts Never Been Any Reason Tush Rock and Roll, Hoochie Koo Balinese Rock and Roll All Nite Right Place, Wrong Time Living in the U.S.A. Hey Baby Summer Breeze Rock & Roll Band Smokin\\' Hitch a Ride Let Me Take You Home Tonight Peace of Mind Something About You Don\\'t Look Back Feelin\\' Satisfied Freebird (Original Mix) Freebird (Alternate Mix) The Times They Are a-Changin\\' Flava in Ya Ear (Remix) Dollar Days Sue (Or in a Season fo Crime) Sorrow New Killer Star Slow Burn It\\'s a Man\\'s Man\\'s Man\\'s World Gimme All Your Lovin\\' In the Cold, Cold Night Supervillain Theme Everybody Makes It Through Everybody Makes It Through In My Time Of Dying In The Light If It Keeps On Raining Four Hands Good Times Bad Times/Communication Breakdown (Live 1969) I Can\\'t Quit You Baby (Live 1969) La La 10 Ribs & All/Carrot Pod Pod Royal Orleans Shine On You Crazy Diamond (Parts I-V) Welcome to the Machine Shine On You Crazy Diamond (Parts VI-IX) Sign of the Times Honky Tonk Women Water of Love Six Blade Knife Follow Me Friends Friends Jennings Farm Blues Killing Floor As Long As I Have You (Live 1969) Boogie with Stu Sick Again Sick Again In the Evening Sugar Mama Walter\\'s Walk St. Tristans Sword Desire Bonzo\\'s Montreux Bonzo\\'s Montreux Blowin\\' in the Wind Wayward Child Keychain At the Depot Just Hit Town Off the Handle Skateaway Expresso Love Hand in Hand Solid Rock Les Boys Angie Tumbling Dice Shattered Green Grass & High Tides Hava Nagila Riders in the Sky Shake \\'n\\' Stomp Surfing Drums Third Stone from the Sun Mr. Eliminator Night Rider Powderfinger Equinox Almost Blue Blue Train Moanin\\' Country Honk Wagon Wheel Do I Wanna Know? 21 Summer Stay A Little Longer Rum It Ain\\'t My Fault Mardy Bum Goodbye Moonmen For the Damaged Darlington County Spiderwebs Maggie May Conquest Icky Thump You Give Love a Bad Name Way Down We Go Nitro Growing Up Londinium La Bohème Crazy On You Lonely Day Bam Bam Love Me Again Intermission Angels Bongo Bong Who Did That to You? Freedom The Room Can\\'t Take My Eyes Off You Aerials You Could Be Mine Aces High When a Blind Man Cries When a Blind Man Cries Dirty Water Hit Me with Your Best Shot Go to Sleep Big Ego\\'s No Good Broken Bones Don\\'t Think Twice It\\'s All Right Shelter from the Storm Doom and Gloom Stan (Live) Who Are You I Was Made for Lovin\\' You Why\\'d You Only Call Me When You\\'re High? In the Hall of the Mountain King Dust in the Wind Ella, elle l\\'a The Wizard The Rain Song Bron-Y-Aur Stomp Black Horse and the Cherry Tree Take Me to Church Portrait (He Knew) Feel It Still Taurus II (Live 1983) While My Guitar Gently Weeps Little Wing Taurus II Castles Made of Sand The Wind Cries Mary Girl From the North Country Girl From the North Country Edge of Darkness Safari Song Flower Power A Change Is Gonna Come Highway Tune Meet On The Ledge Talk On The Street Black Smoke Rising Here I Go Again Dancing Days Travelling Riverside Blues The Crunge Down By The Seaside Bron-Yr-Aur The Lemon Song Foxy Lady Fire Dolly Dagger Third Stone From The Sun If 6 Was 9 We Gotta Get Out Of This Place Sky Pilot Don\\'t Bring Me Down Berzerk Mr. Crowley Wait Until Tomorrow Fire Woman Saving Us Lie Lie Lie Isis Mozambique One More Cup of Coffee Monkey Man One More Cup of Coffee Bring It On Home Just Like a Woman Positively 4th Street It Ain\\'t Me Babe Keep Yourself Alive For Your Life Candy Store Rock Hots On For Nowhere Tea For One Poor Tom Out On The Tiles Thank You Your Time is Gonna Come Black Mountain Side Black Country Woman Custard Pie Night Flight Tangerine I Can\\'t Quit You Baby And the Cradle Will Rock... Hey You Me Gustas Tú Clandestino Lucille Tea For One Just a Gigolo Rainy Day Women #12 & 35 Pledging My Time One of Us Must Know (Sooner or Later) I Want You Stuck Inside of Mobile with the Memphis Blues Again Leopard-Skin Pill-Box Hat Most Likely You Go Your Way And I\\'ll Go Mine Temporary Like Achilles Absolutely Sweet Marie 4th Time Around Obviously Five Believers Sad-Eyed Lady of the Lowlands Visions of Johanna For Whom the Bell Tolls Denia Silver For Monsters... 99 Problems Blue (Da Ba Dee) Beggin\\' Like a Hobo Heartbreaker For What It\\'s Worth Khuttar Maghribiah 1985 Song 2 My Sharona Oye Como Va Evil Ways Trois nuits par semaine Trois nuits par semaine 25 Or 6 To 4 La Vida Tómbola Paint It Black What a Wonderful World Otherside À Tout le Monde We\\'re an American Band Sex on Fire Don\\'t Let Me Be Misunderstood This is America Hit the Road Jack What\\'d I Say Fugue in D Minor Love is Mystical Serenade Let\\'s Hang On! Trois nuits par semaine L. A. Woman L.A. Woman Mambo No. 5 (A Little Bit of...) Dont Bring Me Down Jump Louie, Louie Louie Louie Theme From Rawhide Je ne parle pas français Everybody Needs Somebody To Love I Like It Like That Last Train to London Think Peter Gunn Theme Sweet Home Chicago Minnie the Moocher Can\\'t Take My Eyes Off You Toy The Logical Song Trinity (Titoli) I Got A Name Canary Bay You\\'d Better Run Road to the Sun Philadelphia Baby Louie Louie Sunny Run (I\\'m a Natural Disaster) Cold Cold Cold Down by the River Home Mundian To Bach Ke Rasputin Money, Money, Money Nothing Breaks Like a Heart Flash Live is Life Wasted Somebody That I Used To Know Stolen Dance Shape of my Heart Déjeuner en paix The Night King The Long March Masâr Our Final Songs Ill Ray (The King) Black Jack Davey Good to Me Por la boca vive el pez Numb Remember the Name Big Ten Inch Record Mama Kin Walkin\\' the Dog Train Kept A-Rollin\\' Back in the Saddle Same Old Song and Dance Happy Live With Me She\\'s So Cold Miss You Long Live Palestine Part III Long Live Palestine Part II In the Hall of the Mountain King Mona Lisa Long Live Palestine Part I Winter Tamacun Diablo Rojo Stairway to Heaven Satori Orion Jolene Black Magic Woman Wonderful World Telegraph Road She\\'s Not There This Old Heart Of Mine (Is Weak For You) Blackjack Davey The Great Gig in the Sky Sirius Mammagamma Drinking Muddy Water Smile on Me Rollin\\' and Tumblin\\' Rollin\\' and Tumblin\\' What Kind Of Woman Is This? Ninety Nine and One Half Now You\\'re Gone I Put a Spell On You Somebody\\'s Sleeping in My Bed On A Saturday Night Ain\\'t No Sunshine Cheaper To Keep Her / Blues In The Night Do Your Thing Going to California (mandolin/guitar mix) Ken Copeland\\'s Wind Of God REMIX - WTFBRAHH Immigrant Song Heartbreaker Black Dog Over The Hills And Far Away Since I\\'ve Been Loving You Stairway To Heaven Going To California Bron-Yr-Aur Stomp Dazed And Confused What Is And What Should Never Be Dancing Days Moby Dick Whole Lotta Love Rock \\'N\\' Roll Ocean Bring It On Home'"
      ]
     },
     "execution_count": 131,
     "metadata": {},
     "output_type": "execute_result"
    }
   ],
   "source": [
    "# extract text\n",
    "text = ' '.join(df.Name)\n",
    "text"
   ]
  },
  {
   "cell_type": "code",
   "execution_count": 145,
   "metadata": {},
   "outputs": [],
   "source": [
    "# need to remove characters that aren't of interest, such as punctuation\n",
    "import re\n",
    "import string\n",
    "\n",
    "def clean(text, numbers = True, non_ascii = True, stop = False):\n",
    "    \"\"\"\n",
    "    Function to clean text\n",
    "    \n",
    "    Dependencies:\n",
    "    -------------\n",
    "    \n",
    "    import re\n",
    "    import string\n",
    "    \n",
    "    Attributes:\n",
    "    -----------\n",
    "    \n",
    "    text : str\n",
    "        text to be cleaned\n",
    "        \n",
    "    numbers (True) : bool\n",
    "        boolean to determine whether to remove numbers (True) or not (False)\n",
    "        \n",
    "    non_ascii (True) : bool\n",
    "        boolean to determine whether to remove non-ascii characters (True) or not (False)\n",
    "\n",
    "    \"\"\"\n",
    "    text = text.lower() # make text lower case\n",
    "    \n",
    "    \n",
    "    # this needs fixing\n",
    "    text = re.sub(' +', ' ', text)\n",
    "    \n",
    "    if numbers:\n",
    "        text = re.sub('\\w*\\d\\w*', '', text) # removes numbers\n",
    "    \n",
    "    if non_ascii:\n",
    "        text = re.sub(r'[^\\x00-\\x7F]+',' ', text)    # remove non_ascii chars\n",
    "        \n",
    "    if not stop:    \n",
    "        \n",
    "        stop_words = set(stopwords.words('english')) \n",
    "        \n",
    "        text = ' '.join([w for w in text.split() if not w in stop_words]) \n",
    "                \n",
    "    text = re.sub('[%s]' % re.escape(string.punctuation), '', text) # removes punctuation\n",
    "\n",
    "\n",
    "        \n",
    "    return text"
   ]
  },
  {
   "cell_type": "code",
   "execution_count": 146,
   "metadata": {},
   "outputs": [],
   "source": [
    "text = clean(text)"
   ]
  },
  {
   "cell_type": "code",
   "execution_count": 147,
   "metadata": {},
   "outputs": [
    {
     "data": {
      "text/plain": [
       "'ether happy immigrant song violent pornography psycho gold digger come lithium comes sun hiiipower love rock n roll maad city follow leader man sold world man sold world ramble crazy little thing called love prophets song fight power raindrops keep fallin head mama used say tnt le freak three little birds kashmir jamming walking sunshine heartbreak hotel heroes moonage daydream life mars ashes ashes modern love fame golden years eye tiger innuendo show must go dont stop want break free radio ga ga killer queen rock changes space oddity till collapse remix till collapse stan guilty concience god gave everything gimme shelter back black abracadabra highway hell paul revere power love django gangstas paradise nickt remix gangstas paradise ambitionz az ridah eyez stayin alive hypnotize stronger another one bites dust bohemian rhapsody live blitzkrieg bop toxicity chop suey lets get started jailhouse rock im believer sympathy devil house rising sun smells like teen spirit heartshaped box hotel california dream layla hit em bad bone aint nobody iron man king kunta paint black hail mary straight outta compton vaseline starman hooked feeling sleep till brooklyn boombastic personal jesus johnny b goode paid full coldcut remix rappers delight pressure got woman gangsta gangsta message buffalo soldier fuck tha police professional griefers da club california love big poppa jesus walks juicy microphone fiend scenario whiplash sing moment cant get satisfaction anarchy uk du hast without nuthin g thang cant hear knocking blue suede shoes want hold hand x gon give ya superman gallows pole another brick wall part ii roll beethoven roll beethoven rolling deep skyfall death row still dre forgot dre problems otis hey joe along watchtower voodoo child slight return welcome jungle ecstacy gold scar tissue californication cream got feel good sweet child mine misty mountain hop hills far away somebody love somebody love hanging tree live let die going barbara ann clocks bring life walk line rock roll music rock roll music knows rebel rebel hey jude day life let whole lotta love black dog achilles last stand game thronesmain title star wars main theme imperial march darth vaders theme raiders march woman cry im supposed die tonight lose technical difficulties im sorry blinded science school days shot sheriff stir sabotage smooth criminal casualties war aint joke b tha mic juice know ledge dont sweat technique seven nation army make noise crazy rap tricky name horse name paradise city real slim shady hood gotta fight right party lyrics fury know got soul thats get around brass monkey rebel without pause triumph method man guess whos back waiting world end r omega letter always forever gazillion ear alphabet aerobics lil bit candy shop pimp many men wish death next episode empty walls sky harakiri mass artsakh crack bottle party cigaro thunderstruck cant born usa bob represent check rhime ms jackson sweet thang rigamortus ny state mind world halftime fly away hunter keep ya head atliens sound silence made look luck lucien party throw walk way heartbreaker walk way billie jean london calling cocaine hound dog american woman people strange shook night long girls got rhythm rock roll shoot thrill suspicious minds burning love imagine run hills life mrs robinson freedom song trial summertime rebel yell battle evermore break side rosa parks gonna go way paranoid riders storm light fire love two times touch hello love comfortably numb time money cigar high hopes love rover holy diver communication breakdown living loving maid shes woman trooper fortunate son dont let misunderstood stay go going california levee breaks bohemian rhapsody party bullshit skew barb rockin free world generation wanna sedated stairway heaven fresh clean informer never watch man aladdin sane drivein saturday dodo queen bitch suffragette city back patiently waiting high time questions song bob dylan andy warhol panic detroit jean genie rains pours enter sandman back ussr eleanor rigby ace spades taste honey beast burden ballroom blitz michelle michelle drive car eight days week cant stop rock like hurricane livin prayer lets dance sweet home alabama lucy sky diamonds get back want shes heavy prettiest star good times bad times lets spend night together zephyr song bridge pay day give away suck kiss africa michelle old man heart gold heart gold eldorado god save queen fought law passenger hurt cracked actor come alive low rider old man star freebird simple man breathe air river weekend alabama needle damage done ive seen face norwegian wood bird flown wont see think nowhere man girl wait layla live stairway heaven live layla live good day tunnel love peachfuzz im shipping boston one fucking time stairway heaven live dragonborn bittersweet symphony sympathy devil fatboy slim remix sympathy devil neptunes remix sympathy devil state massachusetts rose tattoo rose tattoo johnny hardly knew ya drunken sailor sympathy devil hardcore hustle time dying hey hey hustlers ambition kind magic day n nite marooned time lady grinning soul four sticks many times dazed confused time crawl dyer maker shot ya purple haze live voodoo child slight return live cortez killer southern man soulshine good vibrations one way another ziggy stardust whats going baba oriley boxer get stand train vain cant always get want money nothing yesterday life help loves please please something cant buy love little help friends psycho killer psycho killer remix waterloo sunset ruby tuesday jumpin jack flash misirlou crazy train brown sugar miss feeling thatll day master puppets whipping post hoochie coochie man hoochie coochie man midnight rider alone wanna dog love two times oda la sin nombre flores secas waterloo sunset along watchtower layla purple haze fortuna fortune plango vulnera survive lola born wild bloom ohio penny lane call aint sunshine crossroads sunshine love white room cant explain cant explain ooh child see miles wont get fooled hard days night heard grapevine really got losing religion song love happiness sweet emotion spiderman sweet dreams made sheena punk rocker ever seen rain oh pretty woman california dreamin california dreamin california dreamin hot stuff living city living city roof wish dont fear reaper goodbye yellow brick road fastlane antimatter somebody love green onions sultans swing like kicks young dudes beat deep fried frenz next levels accordion mr tambourine man dont cruel shot sheriff like prayer bebopalula rapp snitch knishes house rising sun oh darlin done parisienne walkways live still got blues knockin heavens door eight miles high tutti frutti long tall sally good golly miss molly keep aknockin cant come girl cant help girl cant help whistler evil woman return g twist jolene tangled blue every breath take take river summer city magic carpet ride roxanne deep love quarter darlene fool rain song remains houses holy nobodys fault mine another day sun prevail trampled foot ten years gone lazarus blackstar city stars winterburn knockin heavens door chain fools babe im gonna leave rock lobster tired alone pictures like heaven subterranean homesick blues higher ground higher ground soul man rock casbah ramblin man jolene loner u cant touch rain like hurricane easy mr brownstone rocket queen nightrain thing unforgiven ii seeker flying mictrotonal banana peoplevultures day night unforgiven iii complete control jolene dont know love youre told dead leaves dirty ground ball biscuit man comes around burned wearing tearing celebration day cant give everything away tis pity whore loyal one far away mans strong latest trick walk life one world worry ride across river brothers arms highwayman highwayman pilot waterline aint nice guy aint nice guy unplugged lady writer setting southbound gallery shut romeo juliet stand stand hellraiser hellraiser calling elvis twisted nerve guitar gently weeps one like im ocean bridge troubled water heart gold life nothing else matters cant quit baby million miles away easy come easy go last time im awake yet bad penny moonchild fall apart laundromat dazed confused never gonna give wanton song philby riding king really got big boots hardest button button hot teacher court crimson king epitaph roundabout owner lonely heart love god live far gone valentine one fade black close eyes count fuck nobody speak shouldve learnt lesson whos coming overnight bag loose talk ride red ride public enemy persuasion maybe late stop different shades blue good lovin sharp dressed man la grange nigga ya love hate cliffs dover feel good inc wind change dry county cant quit baby evil woman slumming angel man silver mountain temple king civil war dude looks like lady crazy janies got gun aint grave gonna hold body gods gonna cut start rock n roll suicide hang star lady stardust jessica mannish boy perpetual burn right poison war pigs maniac glasgow kiss snow hey oh dani california wonderwall woodstock j vu ghost riders sky ghost riders sky ever seen rain personal jesus streets laredo could read mind road loves good rose heart four strong winds im free chain gang redemption day cant help wonder im bound satisfied mind dont hurt anymore final countdown need hero ecstasy gold karma chameleon miracle way fall nuclear mister man end diggity everybody wants rule world working class hero cecilia gates babylon dont stop believin rainbow dark number beast lion sleeps tonight rocky raccoon bring home happiness warm gun im man breaking law mother r u mine dont want miss thing november rain pink fear dark hallowed thy name two us two us talkin bout life mr blue sky fox run lake shore drive chain southern nights sweet lord brandy youre fine girl come little bit closer wham bam shangalang surrender street fighting man since ive loving shook moby dick read lonesome highway im waiting man rocket man think going long long time da ya think im sexy gloria mystic eyes shout parts ii proud mary bad moon rising corner believe magic spirit sky cant believe true crest wave daughter everglades gloria love madly like rolling stone boys back town roses freedom live new kid town stuck middle carry wayward son sweet jane son preacher man paradise chamber reflection treat better dont let misunderstood humble heavy metal takin ride china girl black white want hard life miracle breakthru invisible man im going slightly mad headlong hammer fall friends friends one vision time side heart stone play fire tears go get cloud mothers little helper thumb nervous breakdown lets spend night together heard grapevine black betty mad world girl youll woman soon remember life go way fast car zombie girl youll woman soon solitary man rhiannon tuesdays gone aint mountain high enough lenny jolene scene seven dance eternity highway star sweet dreams could happen want talk autumn leaves scenery early summer willow weep changed forever one neverland god hocus pocus stroke peaches golden brown wheel sky baby driver know bellbottoms harlem shuffle egyptian reggae smokey joes la la baby neat neat neat lets go away awhile live kashmere unsquare dance easy debora brighton rock never never gonna give get denver needle spoon hunt gimme back bullets aint one saturday night special barracuda black magic womangypsy queen waitin bus behind blue eyes love beginning already gone take easy harlem shuffle id love change world foreplaylong time brown eyed girl witchy woman oh well bobby mcgee bloody well right dirty deeds done dirt cheap burnin moving stereo bargain maybe im amazed bennie jets candle wind ship fools ocean boogie stu dazed confused live quarter live since ive loving live run jungle around bend freebird live long see light suzie q green river born bayou good golly miss molly travelin band put spell put spell schools free ride slow ride hurricane cant friends mr nice guy want make love love hurts never reason tush rock roll hoochie koo balinese rock roll nite right place wrong time living usa hey baby summer breeze rock roll band smokin hitch ride let take home tonight peace mind something dont look back feelin satisfied freebird original mix freebird alternate mix times achangin flava ya ear remix dollar days sue season fo crime sorrow new killer star slow burn mans mans mans world gimme lovin cold cold night supervillain theme everybody makes everybody makes time dying light keeps raining four hands good times bad timescommunication breakdown live cant quit baby live la la ribs allcarrot pod pod royal orleans shine crazy diamond parts iv welcome machine shine crazy diamond parts viix sign times honky tonk women water love six blade knife follow friends friends jennings farm blues killing floor long live boogie stu sick sick evening sugar mama walters walk st tristans sword desire bonzos montreux bonzos montreux blowin wind wayward child keychain depot hit town handle skateaway expresso love hand hand solid rock les boys angie tumbling dice shattered green grass high tides hava nagila riders sky shake n stomp surfing drums third stone sun mr eliminator night rider powderfinger equinox almost blue blue train moanin country honk wagon wheel wanna know summer stay little longer rum aint fault mardy bum goodbye moonmen damaged darlington county spiderwebs maggie may conquest icky thump give love bad name way go nitro growing londinium la boh crazy lonely day bam bam love intermission angels bongo bong freedom room cant take eyes aerials could mine aces high blind man cries blind man cries dirty water hit best shot go sleep big egos good broken bones dont think twice right shelter storm doom gloom stan live made lovin whyd call youre high hall mountain king dust wind ella elle la wizard rain song bronyaur stomp black horse cherry tree take church portrait knew feel still taurus ii live guitar gently weeps little wing taurus ii castles made sand wind cries mary girl north country girl north country edge darkness safari song flower power change gonna come highway tune meet ledge talk street black smoke rising go dancing days travelling riverside blues crunge seaside bronyraur lemon song foxy lady fire dolly dagger third stone sun gotta get place sky pilot dont bring berzerk mr crowley wait tomorrow fire woman saving us lie lie lie isis mozambique one cup coffee monkey man one cup coffee bring home like woman positively street aint babe keep alive life candy store rock hots nowhere tea one poor tom tiles thank time gonna come black mountain side black country woman custard pie night flight tangerine cant quit baby cradle rock hey gustas clandestino lucille tea one gigolo rainy day women pledging time one us must know sooner later want stuck inside mobile memphis blues leopardskin pillbox hat likely go way ill go mine temporary like achilles absolutely sweet marie time around obviously five believers sadeyed lady lowlands visions johanna bell tolls denia silver monsters problems blue da ba dee beggin like hobo heartbreaker worth khuttar maghribiah song sharona oye como va evil ways trois nuits par semaine trois nuits par semaine la vida mbola paint black wonderful world otherside tout le monde american band sex fire dont let misunderstood america hit road jack whatd say fugue minor love mystical serenade lets hang trois nuits par semaine l woman la woman mambo little bit dont bring jump louie louie louie louie theme rawhide je ne parle pas fran ais everybody needs somebody love like like last train london think peter gunn theme sweet home chicago minnie moocher cant take eyes toy logical song trinity titoli got name canary bay youd better run road sun philadelphia baby louie louie sunny run im natural disaster cold cold cold river home mundian bach ke rasputin money money money nothing breaks like heart flash live life wasted somebody used know stolen dance shape heart jeuner en paix night king long march mas r final songs ill ray king black jack davey good por la boca vive el pez numb remember name big ten inch record mama kin walkin dog train kept arollin back saddle old song dance happy live shes cold miss long live palestine part iii long live palestine part ii hall mountain king mona lisa long live palestine part winter tamacun diablo rojo stairway heaven satori orion jolene black magic woman wonderful world telegraph road shes old heart mine weak blackjack davey great gig sky sirius mammagamma drinking muddy water smile rollin tumblin rollin tumblin kind woman ninety nine one half youre gone put spell somebodys sleeping bed saturday night aint sunshine cheaper keep blues night thing going california mandolinguitar mix ken copelands wind god remix wtfbrahh immigrant song heartbreaker black dog hills far away since ive loving stairway heaven going california bronyraur stomp dazed confused never dancing days moby dick whole lotta love rock n roll ocean bring home'"
      ]
     },
     "execution_count": 147,
     "metadata": {},
     "output_type": "execute_result"
    }
   ],
   "source": [
    "text"
   ]
  },
  {
   "cell_type": "markdown",
   "metadata": {},
   "source": [
    "Visual inspection looks good. The function \"clean\" to be stored for use later in other projects (for instance NLP in finding novelty within reseasrch papers).\n",
    "\n",
    "*Update:* added to function above festure for removing stopwords as well!"
   ]
  },
  {
   "cell_type": "markdown",
   "metadata": {},
   "source": [
    "Thoughts:\n",
    "\n",
    "    - Can you pick up on songs that mention cities, even if the cities aren't explciitly mentioned, for instance: NY, Ney York, etc etc\n",
    "    "
   ]
  },
  {
   "cell_type": "code",
   "execution_count": null,
   "metadata": {},
   "outputs": [],
   "source": []
  }
 ],
 "metadata": {
  "kernelspec": {
   "display_name": "iTunes_Analysis",
   "language": "python",
   "name": "itunes_analysis"
  },
  "language_info": {
   "codemirror_mode": {
    "name": "ipython",
    "version": 3
   },
   "file_extension": ".py",
   "mimetype": "text/x-python",
   "name": "python",
   "nbconvert_exporter": "python",
   "pygments_lexer": "ipython3",
   "version": "3.7.6"
  }
 },
 "nbformat": 4,
 "nbformat_minor": 4
}
